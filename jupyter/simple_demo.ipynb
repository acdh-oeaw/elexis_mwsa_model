{
 "cells": [
  {
   "cell_type": "code",
   "execution_count": 3,
   "metadata": {},
   "outputs": [],
   "source": [
    "import sys\n",
    "sys.path.insert(0,'..')\n",
    "from classifier_config import ClassifierConfig\n",
    "from feature_extractor import FeatureExtractor\n",
    "from model_trainer import ModelTrainer\n",
    "from wsa_classifier import WordSenseAlignmentClassifier"
   ]
  },
  {
   "cell_type": "code",
   "execution_count": 4,
   "metadata": {},
   "outputs": [
    {
     "ename": "FileNotFoundError",
     "evalue": "[Errno 2] No such file or directory: '/Users/seungbinyim/Development/repos/codalab/Codalab/jupyter/reports/english_none_False_20200316-132340_.log'",
     "output_type": "error",
     "traceback": [
      "\u001b[0;31m---------------------------------------------------------------------------\u001b[0m",
      "\u001b[0;31mFileNotFoundError\u001b[0m                         Traceback (most recent call last)",
      "\u001b[0;32m<ipython-input-4-25dd33ae5df0>\u001b[0m in \u001b[0;36m<module>\u001b[0;34m\u001b[0m\n\u001b[1;32m     15\u001b[0m \u001b[0mmodel_trainer\u001b[0m \u001b[0;34m=\u001b[0m \u001b[0mModelTrainer\u001b[0m\u001b[0;34m(\u001b[0m\u001b[0menglish_config\u001b[0m\u001b[0;34m.\u001b[0m\u001b[0mtestset_ratio\u001b[0m\u001b[0;34m,\u001b[0m \u001b[0menglish_config\u001b[0m\u001b[0;34m.\u001b[0m\u001b[0mlogger\u001b[0m\u001b[0;34m)\u001b[0m\u001b[0;34m\u001b[0m\u001b[0;34m\u001b[0m\u001b[0m\n\u001b[1;32m     16\u001b[0m \u001b[0;34m\u001b[0m\u001b[0m\n\u001b[0;32m---> 17\u001b[0;31m \u001b[0menglish_classifier\u001b[0m \u001b[0;34m=\u001b[0m \u001b[0mWordSenseAlignmentClassifier\u001b[0m\u001b[0;34m(\u001b[0m\u001b[0menglish_config\u001b[0m\u001b[0;34m,\u001b[0m \u001b[0mfeature_extractor\u001b[0m\u001b[0;34m,\u001b[0m \u001b[0mmodel_trainer\u001b[0m\u001b[0;34m)\u001b[0m\u001b[0;34m\u001b[0m\u001b[0;34m\u001b[0m\u001b[0m\n\u001b[0m\u001b[1;32m     18\u001b[0m \u001b[0mdata\u001b[0m \u001b[0;34m=\u001b[0m \u001b[0menglish_classifier\u001b[0m\u001b[0;34m.\u001b[0m\u001b[0mload_data\u001b[0m\u001b[0;34m(\u001b[0m\u001b[0;34m)\u001b[0m\u001b[0;34m.\u001b[0m\u001b[0mget_preprocessed_data\u001b[0m\u001b[0;34m(\u001b[0m\u001b[0;34m)\u001b[0m\u001b[0;34m\u001b[0m\u001b[0;34m\u001b[0m\u001b[0m\n",
      "\u001b[0;32m~/Development/repos/codalab/Codalab/wsa_classifier.py\u001b[0m in \u001b[0;36m__init__\u001b[0;34m(self, config, feature_extractor, model_trainer)\u001b[0m\n\u001b[1;32m     40\u001b[0m         \u001b[0mself\u001b[0m\u001b[0;34m.\u001b[0m\u001b[0m_nlp\u001b[0m \u001b[0;34m=\u001b[0m \u001b[0mspacy\u001b[0m\u001b[0;34m.\u001b[0m\u001b[0mload\u001b[0m\u001b[0;34m(\u001b[0m\u001b[0mconfig\u001b[0m\u001b[0;34m.\u001b[0m\u001b[0mlanguage_model\u001b[0m\u001b[0;34m)\u001b[0m\u001b[0;34m\u001b[0m\u001b[0;34m\u001b[0m\u001b[0m\n\u001b[1;32m     41\u001b[0m         \u001b[0mself\u001b[0m\u001b[0;34m.\u001b[0m\u001b[0m_folder\u001b[0m \u001b[0;34m=\u001b[0m \u001b[0mconfig\u001b[0m\u001b[0;34m.\u001b[0m\u001b[0mfolder\u001b[0m\u001b[0;34m\u001b[0m\u001b[0;34m\u001b[0m\u001b[0m\n\u001b[0;32m---> 42\u001b[0;31m         \u001b[0mself\u001b[0m\u001b[0;34m.\u001b[0m\u001b[0m__configure_logger\u001b[0m\u001b[0;34m(\u001b[0m\u001b[0mconfig\u001b[0m\u001b[0;34m)\u001b[0m\u001b[0;34m\u001b[0m\u001b[0;34m\u001b[0m\u001b[0m\n\u001b[0m\u001b[1;32m     43\u001b[0m         \u001b[0;32mif\u001b[0m \u001b[0mconfig\u001b[0m\u001b[0;34m.\u001b[0m\u001b[0mwith_wordnet\u001b[0m \u001b[0;32mis\u001b[0m \u001b[0;32mTrue\u001b[0m\u001b[0;34m:\u001b[0m\u001b[0;34m\u001b[0m\u001b[0;34m\u001b[0m\u001b[0m\n\u001b[1;32m     44\u001b[0m             \u001b[0mself\u001b[0m\u001b[0;34m.\u001b[0m\u001b[0m_nlp\u001b[0m\u001b[0;34m.\u001b[0m\u001b[0madd_pipe\u001b[0m\u001b[0;34m(\u001b[0m\u001b[0mWordnetAnnotator\u001b[0m\u001b[0;34m(\u001b[0m\u001b[0mself\u001b[0m\u001b[0;34m.\u001b[0m\u001b[0m_nlp\u001b[0m\u001b[0;34m.\u001b[0m\u001b[0mlang\u001b[0m\u001b[0;34m)\u001b[0m\u001b[0;34m,\u001b[0m \u001b[0mafter\u001b[0m\u001b[0;34m=\u001b[0m\u001b[0;34m'tagger'\u001b[0m\u001b[0;34m)\u001b[0m\u001b[0;34m\u001b[0m\u001b[0;34m\u001b[0m\u001b[0m\n",
      "\u001b[0;32m~/Development/repos/codalab/Codalab/wsa_classifier.py\u001b[0m in \u001b[0;36m__configure_logger\u001b[0;34m(self, config)\u001b[0m\n\u001b[1;32m     54\u001b[0m         \u001b[0mself\u001b[0m\u001b[0;34m.\u001b[0m\u001b[0m_logger\u001b[0m \u001b[0;34m=\u001b[0m \u001b[0mlogging\u001b[0m\u001b[0;34m.\u001b[0m\u001b[0mgetLogger\u001b[0m\u001b[0;34m(\u001b[0m\u001b[0mconfig\u001b[0m\u001b[0;34m.\u001b[0m\u001b[0mlogger\u001b[0m\u001b[0;34m)\u001b[0m\u001b[0;34m\u001b[0m\u001b[0;34m\u001b[0m\u001b[0m\n\u001b[1;32m     55\u001b[0m         \u001b[0mself\u001b[0m\u001b[0;34m.\u001b[0m\u001b[0m_logger\u001b[0m\u001b[0;34m.\u001b[0m\u001b[0msetLevel\u001b[0m\u001b[0;34m(\u001b[0m\u001b[0mlogging\u001b[0m\u001b[0;34m.\u001b[0m\u001b[0mINFO\u001b[0m\u001b[0;34m)\u001b[0m\u001b[0;34m\u001b[0m\u001b[0;34m\u001b[0m\u001b[0m\n\u001b[0;32m---> 56\u001b[0;31m         \u001b[0mhandler\u001b[0m \u001b[0;34m=\u001b[0m \u001b[0mlogging\u001b[0m\u001b[0;34m.\u001b[0m\u001b[0mFileHandler\u001b[0m\u001b[0;34m(\u001b[0m\u001b[0mself\u001b[0m\u001b[0;34m.\u001b[0m\u001b[0m_LOG_FILENAME\u001b[0m\u001b[0;34m)\u001b[0m\u001b[0;34m\u001b[0m\u001b[0;34m\u001b[0m\u001b[0m\n\u001b[0m\u001b[1;32m     57\u001b[0m         \u001b[0mself\u001b[0m\u001b[0;34m.\u001b[0m\u001b[0m_logger\u001b[0m\u001b[0;34m.\u001b[0m\u001b[0maddHandler\u001b[0m\u001b[0;34m(\u001b[0m\u001b[0mhandler\u001b[0m\u001b[0;34m)\u001b[0m\u001b[0;34m\u001b[0m\u001b[0;34m\u001b[0m\u001b[0m\n\u001b[1;32m     58\u001b[0m \u001b[0;34m\u001b[0m\u001b[0m\n",
      "\u001b[0;32m~/opt/anaconda3/lib/python3.7/logging/__init__.py\u001b[0m in \u001b[0;36m__init__\u001b[0;34m(self, filename, mode, encoding, delay)\u001b[0m\n\u001b[1;32m   1085\u001b[0m             \u001b[0mself\u001b[0m\u001b[0;34m.\u001b[0m\u001b[0mstream\u001b[0m \u001b[0;34m=\u001b[0m \u001b[0;32mNone\u001b[0m\u001b[0;34m\u001b[0m\u001b[0;34m\u001b[0m\u001b[0m\n\u001b[1;32m   1086\u001b[0m         \u001b[0;32melse\u001b[0m\u001b[0;34m:\u001b[0m\u001b[0;34m\u001b[0m\u001b[0;34m\u001b[0m\u001b[0m\n\u001b[0;32m-> 1087\u001b[0;31m             \u001b[0mStreamHandler\u001b[0m\u001b[0;34m.\u001b[0m\u001b[0m__init__\u001b[0m\u001b[0;34m(\u001b[0m\u001b[0mself\u001b[0m\u001b[0;34m,\u001b[0m \u001b[0mself\u001b[0m\u001b[0;34m.\u001b[0m\u001b[0m_open\u001b[0m\u001b[0;34m(\u001b[0m\u001b[0;34m)\u001b[0m\u001b[0;34m)\u001b[0m\u001b[0;34m\u001b[0m\u001b[0;34m\u001b[0m\u001b[0m\n\u001b[0m\u001b[1;32m   1088\u001b[0m \u001b[0;34m\u001b[0m\u001b[0m\n\u001b[1;32m   1089\u001b[0m     \u001b[0;32mdef\u001b[0m \u001b[0mclose\u001b[0m\u001b[0;34m(\u001b[0m\u001b[0mself\u001b[0m\u001b[0;34m)\u001b[0m\u001b[0;34m:\u001b[0m\u001b[0;34m\u001b[0m\u001b[0;34m\u001b[0m\u001b[0m\n",
      "\u001b[0;32m~/opt/anaconda3/lib/python3.7/logging/__init__.py\u001b[0m in \u001b[0;36m_open\u001b[0;34m(self)\u001b[0m\n\u001b[1;32m   1114\u001b[0m         \u001b[0mReturn\u001b[0m \u001b[0mthe\u001b[0m \u001b[0mresulting\u001b[0m \u001b[0mstream\u001b[0m\u001b[0;34m.\u001b[0m\u001b[0;34m\u001b[0m\u001b[0;34m\u001b[0m\u001b[0m\n\u001b[1;32m   1115\u001b[0m         \"\"\"\n\u001b[0;32m-> 1116\u001b[0;31m         \u001b[0;32mreturn\u001b[0m \u001b[0mopen\u001b[0m\u001b[0;34m(\u001b[0m\u001b[0mself\u001b[0m\u001b[0;34m.\u001b[0m\u001b[0mbaseFilename\u001b[0m\u001b[0;34m,\u001b[0m \u001b[0mself\u001b[0m\u001b[0;34m.\u001b[0m\u001b[0mmode\u001b[0m\u001b[0;34m,\u001b[0m \u001b[0mencoding\u001b[0m\u001b[0;34m=\u001b[0m\u001b[0mself\u001b[0m\u001b[0;34m.\u001b[0m\u001b[0mencoding\u001b[0m\u001b[0;34m)\u001b[0m\u001b[0;34m\u001b[0m\u001b[0;34m\u001b[0m\u001b[0m\n\u001b[0m\u001b[1;32m   1117\u001b[0m \u001b[0;34m\u001b[0m\u001b[0m\n\u001b[1;32m   1118\u001b[0m     \u001b[0;32mdef\u001b[0m \u001b[0memit\u001b[0m\u001b[0;34m(\u001b[0m\u001b[0mself\u001b[0m\u001b[0;34m,\u001b[0m \u001b[0mrecord\u001b[0m\u001b[0;34m)\u001b[0m\u001b[0;34m:\u001b[0m\u001b[0;34m\u001b[0m\u001b[0;34m\u001b[0m\u001b[0m\n",
      "\u001b[0;31mFileNotFoundError\u001b[0m: [Errno 2] No such file or directory: '/Users/seungbinyim/Development/repos/codalab/Codalab/jupyter/reports/english_none_False_20200316-132340_.log'"
     ]
    }
   ],
   "source": [
    "english_config = ClassifierConfig('en_core_web_lg', \"english\", '../data/train', balancing_strategy=\"none\", testset_ratio=0.2, logger = 'default')\n",
    "feature_extractor = FeatureExtractor() \\\n",
    "    .first_word() \\\n",
    "    .similarity() \\\n",
    "    .diff_pos_count() \\\n",
    "    .tfidf() \\\n",
    "    .ont_hot_pos() \\\n",
    "    .matching_lemma() \\\n",
    "    .count_each_pos() \\\n",
    "    .cosine() \\\n",
    "    .jaccard() \\\n",
    "    .avg_count_synsets()\\\n",
    "    .difference_in_length()\n",
    "\n",
    "model_trainer = ModelTrainer(english_config.testset_ratio, english_config.logger)\n",
    "\n",
    "english_classifier = WordSenseAlignmentClassifier(english_config, feature_extractor, model_trainer)\n",
    "data = english_classifier.load_data().get_preprocessed_data()"
   ]
  },
  {
   "cell_type": "code",
   "execution_count": 29,
   "metadata": {},
   "outputs": [
    {
     "data": {
      "text/plain": [
       "0      1\n",
       "1      0\n",
       "2      0\n",
       "3      1\n",
       "4      0\n",
       "      ..\n",
       "551    0\n",
       "552    0\n",
       "553    0\n",
       "554    0\n",
       "555    0\n",
       "Name: semicol_count, Length: 556, dtype: int64"
      ]
     },
     "execution_count": 29,
     "metadata": {},
     "output_type": "execute_result"
    }
   ],
   "source": [
    "data[data['def2'].map(lambda row: ';' in row) == True]\n",
    "data['processed_2']\n",
    "def count_semicolon(doc):\n",
    "    return len([token for token in doc if token.text is ';'])\n",
    "\n",
    "data['semicol_count'] = data['processed_2'].map(lambda doc: count_semicolon(doc))\n",
    "data['semicol_count']\n"
   ]
  },
  {
   "cell_type": "code",
   "execution_count": 45,
   "metadata": {},
   "outputs": [
    {
     "name": "stdout",
     "output_type": "stream",
     "text": [
      "['ADV', 'ADP', 'PUNCT', 'ADV', 'ADP']\n"
     ]
    }
   ],
   "source": [
    "doc = data['processed_2'][data['def2'].map(lambda row: ';' in row) == True].iloc[0]\n",
    "print([token.pos_ for token in doc])"
   ]
  },
  {
   "cell_type": "code",
   "execution_count": 3,
   "metadata": {},
   "outputs": [],
   "source": [
    "feats = feature_extractor.extract(data, feats_to_scale = ['similarities', 'len_diff', 'pos_diff'])\n",
    "x_trainset, x_testset = model_trainer.split_data(feats, english_config.testset_ratio)\n",
    "y_trainset, y_testset = model_trainer.split_data(data['relation'], english_config.testset_ratio)"
   ]
  },
  {
   "cell_type": "code",
   "execution_count": 4,
   "metadata": {},
   "outputs": [
    {
     "data": {
      "text/plain": [
       "Index(['first_word_same', 'similarities', 'pos_diff', 'cos_tfidf',\n",
       "       'interjection', 'pronoun', 'adjective', 'noun', 'adverb', 'conjunction',\n",
       "       'number', 'verb', 'preposition', 'lemma_match_normalized', 'ADP', 'ADV',\n",
       "       'PUNCT', 'ADJ', 'X', 'INTJ', 'NUM', 'SYM', 'SCONJ', 'DET', 'VERB',\n",
       "       'AUX', 'PART', 'CCONJ', 'PROPN', 'NOUN', 'PRON', 'cos', 'jaccard',\n",
       "       'synset_count_1', 'synset_count_2', 'len_diff'],\n",
       "      dtype='object')"
      ]
     },
     "execution_count": 4,
     "metadata": {},
     "output_type": "execute_result"
    }
   ],
   "source": [
    "feats.columns"
   ]
  },
  {
   "cell_type": "code",
   "execution_count": 5,
   "metadata": {},
   "outputs": [
    {
     "data": {
      "text/plain": [
       "<matplotlib.axes._subplots.AxesSubplot at 0x7f92a59723d0>"
      ]
     },
     "execution_count": 5,
     "metadata": {},
     "output_type": "execute_result"
    }
   ],
   "source": [
    "feats['similarities'].plot.kde()\n",
    "#feats['jaccard'].plot.kde()\n",
    "#feats['len_diff'].plot.kde()\n",
    "#feats['pos_diff'].plot.kde()\n",
    "#feats['cos'].plot.kde()\n",
    "#feats['cos_tfidf'].plot.kde()"
   ]
  },
  {
   "cell_type": "code",
   "execution_count": 6,
   "metadata": {},
   "outputs": [
    {
     "name": "stderr",
     "output_type": "stream",
     "text": [
      "/Users/seungbinyim/opt/anaconda3/lib/python3.7/site-packages/yellowbrick/features/rankd.py:216: YellowbrickWarning: RankD plots may be clipped when using matplotlib v3.1.1, upgrade to matplotlib v3.1.2 or later to fix the plots.\n",
      "  warnings.warn(msg, YellowbrickWarning)\n"
     ]
    },
    {
     "data": {
      "image/png": "[encoded data removed]",
      "text/plain": [
       "<Figure size 576x396 with 2 Axes>"
      ]
     },
     "metadata": {},
     "output_type": "display_data"
    },
    {
     "data": {
      "text/plain": [
       "<matplotlib.axes._subplots.AxesSubplot at 0x7f9280347550>"
      ]
     },
     "execution_count": 6,
     "metadata": {},
     "output_type": "execute_result"
    }
   ],
   "source": [
    "feats\n",
    "from yellowbrick.classifier import ClassificationReport\n",
    "from yellowbrick.features import Rank2D\n",
    "from yellowbrick.datasets import load_credit\n",
    "\n",
    "# Instantiate the visualizer with the Pearson ranking algorithm\n",
    "visualizer = Rank2D(algorithm='pearson')\n",
    "\n",
    "#X = ['pd']['x_trainset']\n",
    "#print(X)\n",
    "X = feats[['similarities','len_diff','jaccard','cos','pos_diff','cos_tfidf', 'synset_count_1', 'synset_count_2','lemma_match_normalized']]\n",
    "\n",
    "visualizer.fit(X, y_trainset)  \n",
    "visualizer.transform(X) \n",
    "visualizer.show()"
   ]
  },
  {
   "cell_type": "code",
   "execution_count": 48,
   "metadata": {},
   "outputs": [
    {
     "name": "stdout",
     "output_type": "stream",
     "text": [
      "              precision    recall  f1-score   support\n",
      "\n",
      "     broader       0.00      0.00      0.00         2\n",
      "       exact       0.43      0.38      0.40         8\n",
      "    narrower       0.00      0.00      0.00         5\n",
      "        none       0.92      0.99      0.95        96\n",
      "\n",
      "    accuracy                           0.88       111\n",
      "   macro avg       0.34      0.34      0.34       111\n",
      "weighted avg       0.83      0.88      0.85       111\n",
      "\n",
      "[[ 0  1  0  1]\n",
      " [ 0  3  0  5]\n",
      " [ 0  3  0  2]\n",
      " [ 0  0  1 95]]\n",
      "0.8545792023178957\n",
      "\t\tAccuracy: 0.8829 (+/- 0.0000)\n",
      "\n"
     ]
    },
    {
     "name": "stderr",
     "output_type": "stream",
     "text": [
      "/Users/seungbinyim/opt/anaconda3/lib/python3.7/site-packages/sklearn/metrics/classification.py:1437: UndefinedMetricWarning: Precision and F-score are ill-defined and being set to 0.0 in labels with no predicted samples.\n",
      "  'precision', 'predicted', average, warn_for)\n",
      "/Users/seungbinyim/opt/anaconda3/lib/python3.7/site-packages/sklearn/metrics/classification.py:1437: UndefinedMetricWarning: F-score is ill-defined and being set to 0.0 in labels with no predicted samples.\n",
      "  'precision', 'predicted', average, warn_for)\n"
     ]
    }
   ],
   "source": [
    "from sklearn.ensemble import RandomForestClassifier, VotingClassifier\n",
    "from sklearn.metrics import classification_report, confusion_matrix, f1_score\n",
    "model = RandomForestClassifier(bootstrap= True, max_depth=30, max_features=None, min_samples_leaf=3, min_samples_split=2, n_estimators=600)\n",
    "model.fit(x_trainset, y_trainset)\n",
    "predicted = model.predict(x_testset)\n",
    "print(str(classification_report(y_testset, predicted)))\n",
    "print(str(confusion_matrix(y_testset, predicted)))\n",
    "print(str(f1_score(y_testset, predicted, average='weighted')))\n",
    "score = model.score(x_testset, y_testset)\n",
    "print('\\t\\t' + \"Accuracy: %0.4f (+/- %0.4f)\" % (score.mean(), score.std() * 2) + '\\n')"
   ]
  },
  {
   "cell_type": "code",
   "execution_count": 49,
   "metadata": {},
   "outputs": [
    {
     "name": "stdout",
     "output_type": "stream",
     "text": [
      "              precision    recall  f1-score   support\n",
      "\n",
      "     broader       0.00      0.00      0.00         2\n",
      "       exact       0.43      0.38      0.40         8\n",
      "    narrower       0.00      0.00      0.00         5\n",
      "        none       0.92      0.99      0.95        96\n",
      "\n",
      "    accuracy                           0.88       111\n",
      "   macro avg       0.34      0.34      0.34       111\n",
      "weighted avg       0.83      0.88      0.85       111\n",
      "\n",
      "[[ 0  1  0  1]\n",
      " [ 0  3  0  5]\n",
      " [ 0  3  0  2]\n",
      " [ 0  0  1 95]]\n",
      "0.8545792023178957\n",
      "\t\tAccuracy: 0.8829 (+/- 0.0000)\n",
      "\n",
      "BASELINE:0.8648648648648649\n"
     ]
    },
    {
     "name": "stderr",
     "output_type": "stream",
     "text": [
      "/Users/seungbinyim/opt/anaconda3/lib/python3.7/site-packages/sklearn/metrics/classification.py:1437: UndefinedMetricWarning: Precision and F-score are ill-defined and being set to 0.0 in labels with no predicted samples.\n",
      "  'precision', 'predicted', average, warn_for)\n",
      "/Users/seungbinyim/opt/anaconda3/lib/python3.7/site-packages/sklearn/metrics/classification.py:1437: UndefinedMetricWarning: F-score is ill-defined and being set to 0.0 in labels with no predicted samples.\n",
      "  'precision', 'predicted', average, warn_for)\n"
     ]
    }
   ],
   "source": [
    "model_2 = RandomForestClassifier(bootstrap= True, class_weight = 'balanced_subsample', max_depth=80, max_features=2, min_samples_leaf=3, min_samples_split=5, n_estimators=800)\n",
    "model_2.fit(x_trainset, y_trainset)\n",
    "predicted = model.predict(x_testset)\n",
    "print(str(classification_report(y_testset, predicted)))\n",
    "print(str(confusion_matrix(y_testset, predicted)))\n",
    "print(str(f1_score(y_testset, predicted, average='weighted')))\n",
    "score = model.score(x_testset, y_testset)\n",
    "print('\\t\\t' + \"Accuracy: %0.4f (+/- %0.4f)\" % (score.mean(), score.std() * 2) + '\\n')\n",
    "print('BASELINE:' + str(model_trainer.get_baseline_df(y_testset)))"
   ]
  },
  {
   "cell_type": "markdown",
   "metadata": {},
   "source": [
    "**Load Spacy Language Model.**\n",
    "\n",
    "In our case it is the large english model"
   ]
  },
  {
   "cell_type": "code",
   "execution_count": 2,
   "metadata": {},
   "outputs": [],
   "source": [
    "nlp = spacy.load('en_core_web_lg')"
   ]
  },
  {
   "cell_type": "markdown",
   "metadata": {},
   "source": [
    "**Load Dataset and preprocess it**\n",
    "\n",
    "The preprocessing step consists of sampling strategy, default one being oversampling, and nlp pipeline(stopwords removal, lemmatizer, pos tagging)"
   ]
  },
  {
   "cell_type": "code",
   "execution_count": 3,
   "metadata": {},
   "outputs": [
    {
     "name": "stdout",
     "output_type": "stream",
     "text": [
      "20                                 (away, from, a, place)\n",
      "3025    ((, often, follow, by, `, to, ', ), above, be,...\n",
      "382                        (touch, the, surface, of, sth)\n",
      "4438             (of, or, involve, the, home, or, family)\n",
      "256     ((, of, a, store, ,, business, ,, etc, ., ), a...\n",
      "                              ...                        \n",
      "3120    (perennial, marsh, plant, have, swordlike, lea...\n",
      "8052    (a, ball, of, fire, (, such, as, the, sun, or,...\n",
      "102     (in, sport, ,, relate, to, action, or, team, m...\n",
      "4107    (make, something, ,, usually, for, a, specific...\n",
      "5048    (come, as, a, logical, consequence, ;, follow,...\n",
      "Name: lemmatized_1, Length: 2240, dtype: object\n",
      "20                                          [away, place]\n",
      "3025                       [follow, `, affect, influence]\n",
      "382                                 [touch, surface, sth]\n",
      "4438                              [involve, home, family]\n",
      "256     [store, business, etc, available, business, pr...\n",
      "                              ...                        \n",
      "3120    [perennial, marsh, plant, swordlike, leave, ar...\n",
      "8052    [ball, fire, sun, ball, shape, discharge, ligh...\n",
      "102     [sport, relate, action, team, member, score, p...\n",
      "4107                        [usually, specific, function]\n",
      "5048      [come, logical, consequence, follow, logically]\n",
      "Name: stopwords_removed_1, Length: 2240, dtype: object\n",
      "20                               ((, of, food, ), rotten)\n",
      "3025    (beyond, the, power, or, influence, of, ;, too...\n",
      "382     (when, (, something, be, ,, or, have, be, ,, d...\n",
      "4438    (remain, much, at, home, ;, devote, to, home, ...\n",
      "256                                   (not, keep, secret)\n",
      "                              ...                        \n",
      "3120    (a, species, of, Acorus, (, corus, calamus, ),...\n",
      "8052    (a, large, mass, of, fire, cause, by, a, large...\n",
      "102                                              (insult)\n",
      "4107    (to, produce, or, form, by, labor, ;, to, brin...\n",
      "5048    (to, result, from, ,, as, an, effect, from, a,...\n",
      "Name: lemmatized_2, Length: 2240, dtype: object\n",
      "{'exact', 'none', 'broader', 'narrower', 'related'}\n"
     ]
    }
   ],
   "source": [
    "en_data = load_and_preprocess('english', nlp)\n",
    "print(set(en_data['relation']))"
   ]
  },
  {
   "cell_type": "markdown",
   "metadata": {},
   "source": [
    "**Print only narrower relations**"
   ]
  },
  {
   "cell_type": "code",
   "execution_count": 4,
   "metadata": {},
   "outputs": [
    {
     "name": "stdout",
     "output_type": "stream",
     "text": [
      "             word        pos  \\\n",
      "3025     superior  adjective   \n",
      "1661         rush       verb   \n",
      "5301      gushing  adjective   \n",
      "12    commentator       noun   \n",
      "3502  recognition       noun   \n",
      "...           ...        ...   \n",
      "5744          rag       verb   \n",
      "104         allow       verb   \n",
      "1584         sack       noun   \n",
      "3120      calamus       noun   \n",
      "5048       follow       verb   \n",
      "\n",
      "                                                   def1  \\\n",
      "3025  (often followed by `to') above being affected ...   \n",
      "1661                         urge to an unnatural speed   \n",
      "5301                        extravagantly demonstrative   \n",
      "12    a writer who reports and analyzes events of th...   \n",
      "3502  coming to understand something clearly and dis...   \n",
      "...                                                 ...   \n",
      "5744                                    play in ragtime   \n",
      "104   give or assign a resource to a particular pers...   \n",
      "1584  a bag made of paper or plastic for holding cus...   \n",
      "3120  perennial marsh plant having swordlike leaves ...   \n",
      "5048    come as a logical consequence; follow logically   \n",
      "\n",
      "                                                   def2  relation  \\\n",
      "3025  beyond the power or influence of; too great or...  narrower   \n",
      "1661  to push or urge forward with impetuosity or vi...  narrower   \n",
      "5301  emitting copiously, as tears or words; weakly ...  narrower   \n",
      "12    one who writes a commentary or comments; an ex...  narrower   \n",
      "3502  the act of recognizing, or the state of being ...  narrower   \n",
      "...                                                 ...       ...   \n",
      "5744  to play or compose (a piece, melody, etc.) in ...  narrower   \n",
      "104   to grant, give, admit, accord, afford, or yiel...  narrower   \n",
      "1584  a bag for holding and carrying goods of any ki...  narrower   \n",
      "3120  a species of Acorus (corus calamus), commonly ...  narrower   \n",
      "5048  to result from, as an effect from a cause, or ...  narrower   \n",
      "\n",
      "                                            processed_1  \\\n",
      "3025  ((, often, followed, by, `, to, ', ), above, b...   \n",
      "1661                   (urge, to, an, unnatural, speed)   \n",
      "5301                     (extravagantly, demonstrative)   \n",
      "12    (a, writer, who, reports, and, analyzes, event...   \n",
      "3502  (coming, to, understand, something, clearly, a...   \n",
      "...                                                 ...   \n",
      "5744                                (play, in, ragtime)   \n",
      "104   (give, or, assign, a, resource, to, a, particu...   \n",
      "1584  (a, bag, made, of, paper, or, plastic, for, ho...   \n",
      "3120  (perennial, marsh, plant, having, swordlike, l...   \n",
      "5048  (come, as, a, logical, consequence, ;, follow,...   \n",
      "\n",
      "                                            processed_2  \\\n",
      "3025  (beyond, the, power, or, influence, of, ;, too...   \n",
      "1661  (to, push, or, urge, forward, with, impetuosit...   \n",
      "5301  (emitting, copiously, ,, as, tears, or, words,...   \n",
      "12    (one, who, writes, a, commentary, or, comments...   \n",
      "3502  (the, act, of, recognizing, ,, or, the, state,...   \n",
      "...                                                 ...   \n",
      "5744  (to, play, or, compose, (, a, piece, ,, melody...   \n",
      "104   (to, grant, ,, give, ,, admit, ,, accord, ,, a...   \n",
      "1584  (a, bag, for, holding, and, carrying, goods, o...   \n",
      "3120  (a, species, of, Acorus, (, corus, calamus, ),...   \n",
      "5048  (to, result, from, ,, as, an, effect, from, a,...   \n",
      "\n",
      "                                           lemmatized_1  \\\n",
      "3025  ((, often, follow, by, `, to, ', ), above, be,...   \n",
      "1661                   (urge, to, an, unnatural, speed)   \n",
      "5301                     (extravagantly, demonstrative)   \n",
      "12    (a, writer, who, report, and, analyze, event, ...   \n",
      "3502  (come, to, understand, something, clearly, and...   \n",
      "...                                                 ...   \n",
      "5744                                (play, in, ragtime)   \n",
      "104   (give, or, assign, a, resource, to, a, particu...   \n",
      "1584  (a, bag, make, of, paper, or, plastic, for, ho...   \n",
      "3120  (perennial, marsh, plant, have, swordlike, lea...   \n",
      "5048  (come, as, a, logical, consequence, ;, follow,...   \n",
      "\n",
      "                                    stopwords_removed_1  \\\n",
      "3025                     [follow, `, affect, influence]   \n",
      "1661                           [urge, unnatural, speed]   \n",
      "5301                     [extravagantly, demonstrative]   \n",
      "12                [writer, report, analyze, event, day]   \n",
      "3502            [come, understand, clearly, distinctly]   \n",
      "...                                                 ...   \n",
      "5744                                    [play, ragtime]   \n",
      "104       [assign, resource, particular, person, cause]   \n",
      "1584    [bag, paper, plastic, hold, customer, purchase]   \n",
      "3120  [perennial, marsh, plant, swordlike, leave, ar...   \n",
      "5048    [come, logical, consequence, follow, logically]   \n",
      "\n",
      "                                           lemmatized_2  \\\n",
      "3025  (beyond, the, power, or, influence, of, ;, too...   \n",
      "1661  (to, push, or, urge, forward, with, impetuosit...   \n",
      "5301  (emit, copiously, ,, as, tear, or, word, ;, we...   \n",
      "12    (one, who, write, a, commentary, or, comment, ...   \n",
      "3502  (the, act, of, recognize, ,, or, the, state, o...   \n",
      "...                                                 ...   \n",
      "5744  (to, play, or, compose, (, a, piece, ,, melody...   \n",
      "104   (to, grant, ,, give, ,, admit, ,, accord, ,, a...   \n",
      "1584  (a, bag, for, hold, and, carry, good, of, any,...   \n",
      "3120  (a, species, of, Acorus, (, corus, calamus, ),...   \n",
      "5048  (to, result, from, ,, as, an, effect, from, a,...   \n",
      "\n",
      "                                    stopwords_removed_2  \n",
      "3025    [power, influence, great, firm, subdue, affect]  \n",
      "1661  [push, urge, forward, impetuosity, violence, h...  \n",
      "5301  [emit, copiously, tear, word, weakly, unreserv...  \n",
      "12    [write, commentary, comment, expositor, annota...  \n",
      "3502  [act, recognize, state, recognize, acknowledgm...  \n",
      "...                                                 ...  \n",
      "5744  [play, compose, piece, melody, etc, syncopated...  \n",
      "104          [grant, admit, accord, afford, yield, let]  \n",
      "1584  [bag, hold, carry, good, kind, receptacle, kin...  \n",
      "3120  [species, Acorus, corus, calamus, commonly, ca...  \n",
      "5048        [result, effect, cause, inference, premise]  \n",
      "\n",
      "[448 rows x 11 columns]\n"
     ]
    }
   ],
   "source": [
    "is_narrower = en_data['relation']=='narrower'\n",
    "print(en_data[has_label(en_data,'narrower')])"
   ]
  },
  {
   "cell_type": "markdown",
   "metadata": {},
   "source": [
    "**Enrich Dataframe with spacy nlp processed columns**"
   ]
  },
  {
   "cell_type": "code",
   "execution_count": 5,
   "metadata": {},
   "outputs": [
    {
     "data": {
      "text/plain": [
       "448"
      ]
     },
     "execution_count": 5,
     "metadata": {},
     "output_type": "execute_result"
    }
   ],
   "source": [
    "label_count = en_data.groupby('relation').count().word.sort_values(ascending=False)\n",
    "label_count.plot(kind = 'bar')\n",
    "label_count[1]\n",
    "#label_count.plot(kind = 'bar', x = 'relation', y )"
   ]
  },
  {
   "cell_type": "code",
   "execution_count": 6,
   "metadata": {},
   "outputs": [],
   "source": [
    "features = extract_features(en_data, feats_to_scale = ['similarities', 'len_diff', 'pos_diff'])\n"
   ]
  },
  {
   "cell_type": "code",
   "execution_count": 7,
   "metadata": {},
   "outputs": [
    {
     "name": "stdout",
     "output_type": "stream",
     "text": [
      "      similarities  first_word_same  len_diff   jaccard       cos  pos_diff  \\\n",
      "20       -1.360503            False -0.893043  0.000000  0.000000  0.560154   \n",
      "3025      0.858271            False -0.147546  0.083333  0.421350 -0.804442   \n",
      "382      -1.412957            False -0.893043  0.000000  0.000000 -0.122144   \n",
      "4438      0.666514            False -0.644544  0.133333  0.384900  0.219005   \n",
      "256      -1.089819            False  1.094948  0.000000  0.000000  2.607049   \n",
      "...            ...              ...       ...       ...       ...       ...   \n",
      "3120      0.116266            False  0.846449  0.069767  0.228934 -2.169038   \n",
      "8052      0.940398             True  2.088944  0.162162  0.415775 -0.122144   \n",
      "102      -3.391493            False -0.644544  0.000000  0.000000  2.265900   \n",
      "4107      0.275805            False  0.100953  0.000000  0.000000  0.901304   \n",
      "5048      0.623860            False  0.100953  0.117647  0.089087  0.219005   \n",
      "\n",
      "      cos_tfidf  \n",
      "20     0.000000  \n",
      "3025   0.438204  \n",
      "382    0.000000  \n",
      "4438   0.375248  \n",
      "256    0.000000  \n",
      "...         ...  \n",
      "3120   0.258892  \n",
      "8052   0.050839  \n",
      "102    0.000000  \n",
      "4107   0.000000  \n",
      "5048   0.000000  \n",
      "\n",
      "[2240 rows x 7 columns]\n"
     ]
    }
   ],
   "source": [
    "print(features)\n"
   ]
  },
  {
   "cell_type": "code",
   "execution_count": 8,
   "metadata": {},
   "outputs": [
    {
     "data": {
      "text/plain": [
       "<matplotlib.axes._subplots.AxesSubplot at 0x7fbe5623b1d0>"
      ]
     },
     "execution_count": 8,
     "metadata": {},
     "output_type": "execute_result"
    },
    {
     "data": {
      "image/png": "[encoded data removed]",
      "text/plain": [
       "<Figure size 432x288 with 1 Axes>"
      ]
     },
     "metadata": {
      "needs_background": "light"
     },
     "output_type": "display_data"
    }
   ],
   "source": [
    "features['similarities'].plot.kde()\n",
    "features['jaccard'].plot.kde()\n",
    "features['len_diff'].plot.kde()\n",
    "features['pos_diff'].plot.kde()\n",
    "features['cos'].plot.kde()\n",
    "features['cos_tfidf'].plot.kde()"
   ]
  },
  {
   "cell_type": "code",
   "execution_count": 46,
   "metadata": {},
   "outputs": [
    {
     "ename": "NameError",
     "evalue": "name 'features' is not defined",
     "output_type": "error",
     "traceback": [
      "\u001b[0;31m---------------------------------------------------------------------------\u001b[0m",
      "\u001b[0;31mNameError\u001b[0m                                 Traceback (most recent call last)",
      "\u001b[0;32m<ipython-input-46-9c1fc0fbdf16>\u001b[0m in \u001b[0;36m<module>\u001b[0;34m\u001b[0m\n\u001b[1;32m      3\u001b[0m \u001b[0;31m#features['len_diff'].plot.hist()\u001b[0m\u001b[0;34m\u001b[0m\u001b[0;34m\u001b[0m\u001b[0;34m\u001b[0m\u001b[0m\n\u001b[1;32m      4\u001b[0m \u001b[0;31m#features['pos_diff'].plot.hist()\u001b[0m\u001b[0;34m\u001b[0m\u001b[0;34m\u001b[0m\u001b[0;34m\u001b[0m\u001b[0m\n\u001b[0;32m----> 5\u001b[0;31m \u001b[0mfeatures\u001b[0m\u001b[0;34m[\u001b[0m\u001b[0;34m'cos'\u001b[0m\u001b[0;34m]\u001b[0m\u001b[0;34m.\u001b[0m\u001b[0mplot\u001b[0m\u001b[0;34m.\u001b[0m\u001b[0mhist\u001b[0m\u001b[0;34m(\u001b[0m\u001b[0;34m)\u001b[0m\u001b[0;34m\u001b[0m\u001b[0;34m\u001b[0m\u001b[0m\n\u001b[0m\u001b[1;32m      6\u001b[0m \u001b[0;31m#features['cos_tfidf'].plot.hist()\u001b[0m\u001b[0;34m\u001b[0m\u001b[0;34m\u001b[0m\u001b[0;34m\u001b[0m\u001b[0m\n",
      "\u001b[0;31mNameError\u001b[0m: name 'features' is not defined"
     ]
    }
   ],
   "source": [
    "#features['similarities'].plot.hist()\n",
    "#features['jaccard'].plot.hist()\n",
    "#features['len_diff'].plot.hist()\n",
    "#features['pos_diff'].plot.hist()\n",
    "features['cos'].plot.hist()\n",
    "#features['cos_tfidf'].plot.hist()"
   ]
  },
  {
   "cell_type": "code",
   "execution_count": null,
   "metadata": {},
   "outputs": [],
   "source": []
  },
  {
   "cell_type": "code",
   "execution_count": 10,
   "metadata": {},
   "outputs": [
    {
     "data": {
      "text/html": [
       "<div>\n",
       "<style scoped>\n",
       "    .dataframe tbody tr th:only-of-type {\n",
       "        vertical-align: middle;\n",
       "    }\n",
       "\n",
       "    .dataframe tbody tr th {\n",
       "        vertical-align: top;\n",
       "    }\n",
       "\n",
       "    .dataframe thead th {\n",
       "        text-align: right;\n",
       "    }\n",
       "</style>\n",
       "<table border=\"1\" class=\"dataframe\">\n",
       "  <thead>\n",
       "    <tr style=\"text-align: right;\">\n",
       "      <th></th>\n",
       "      <th>word</th>\n",
       "      <th>pos</th>\n",
       "      <th>def1</th>\n",
       "      <th>def2</th>\n",
       "      <th>relation</th>\n",
       "      <th>processed_1</th>\n",
       "      <th>processed_2</th>\n",
       "      <th>lemmatized_1</th>\n",
       "      <th>stopwords_removed_1</th>\n",
       "      <th>lemmatized_2</th>\n",
       "      <th>stopwords_removed_2</th>\n",
       "    </tr>\n",
       "  </thead>\n",
       "  <tbody>\n",
       "    <tr>\n",
       "      <td>20</td>\n",
       "      <td>off</td>\n",
       "      <td>adverb</td>\n",
       "      <td>away from a place</td>\n",
       "      <td>(of food) rotten</td>\n",
       "      <td>none</td>\n",
       "      <td>(away, from, a, place)</td>\n",
       "      <td>((, of, food, ), rotten)</td>\n",
       "      <td>(away, from, a, place)</td>\n",
       "      <td>[away, place]</td>\n",
       "      <td>((, of, food, ), rotten)</td>\n",
       "      <td>[food, rotten]</td>\n",
       "    </tr>\n",
       "    <tr>\n",
       "      <td>382</td>\n",
       "      <td>on</td>\n",
       "      <td>preposition</td>\n",
       "      <td>touching the surface of sth</td>\n",
       "      <td>when (something is, or has been, done)</td>\n",
       "      <td>none</td>\n",
       "      <td>(touching, the, surface, of, sth)</td>\n",
       "      <td>(when, (, something, is, ,, or, has, been, ,, ...</td>\n",
       "      <td>(touch, the, surface, of, sth)</td>\n",
       "      <td>[touch, surface, sth]</td>\n",
       "      <td>(when, (, something, be, ,, or, have, be, ,, d...</td>\n",
       "      <td>[]</td>\n",
       "    </tr>\n",
       "    <tr>\n",
       "      <td>256</td>\n",
       "      <td>open</td>\n",
       "      <td>adjective</td>\n",
       "      <td>(of a store, business, etc.) available for bus...</td>\n",
       "      <td>not kept secret</td>\n",
       "      <td>none</td>\n",
       "      <td>((, of, a, store, ,, business, ,, etc, ., ), a...</td>\n",
       "      <td>(not, kept, secret)</td>\n",
       "      <td>((, of, a, store, ,, business, ,, etc, ., ), a...</td>\n",
       "      <td>[store, business, etc, available, business, pr...</td>\n",
       "      <td>(not, keep, secret)</td>\n",
       "      <td>[secret]</td>\n",
       "    </tr>\n",
       "    <tr>\n",
       "      <td>492</td>\n",
       "      <td>on</td>\n",
       "      <td>preposition</td>\n",
       "      <td>hitting against</td>\n",
       "      <td>by means of</td>\n",
       "      <td>none</td>\n",
       "      <td>(hitting, against)</td>\n",
       "      <td>(by, means, of)</td>\n",
       "      <td>(hit, against)</td>\n",
       "      <td>[hit]</td>\n",
       "      <td>(by, mean, of)</td>\n",
       "      <td>[mean]</td>\n",
       "    </tr>\n",
       "    <tr>\n",
       "      <td>856</td>\n",
       "      <td>oriflamme</td>\n",
       "      <td>noun</td>\n",
       "      <td>an inspiring symbol or ideal that serves as a ...</td>\n",
       "      <td>a standard or ensign, in battle.</td>\n",
       "      <td>related</td>\n",
       "      <td>(an, inspiring, symbol, or, ideal, that, serve...</td>\n",
       "      <td>(a, standard, or, ensign, ,, in, battle, .)</td>\n",
       "      <td>(an, inspiring, symbol, or, ideal, that, serve...</td>\n",
       "      <td>[inspiring, symbol, ideal, serve, rallying, po...</td>\n",
       "      <td>(a, standard, or, ensign, ,, in, battle, .)</td>\n",
       "      <td>[standard, ensign, battle]</td>\n",
       "    </tr>\n",
       "    <tr>\n",
       "      <td>...</td>\n",
       "      <td>...</td>\n",
       "      <td>...</td>\n",
       "      <td>...</td>\n",
       "      <td>...</td>\n",
       "      <td>...</td>\n",
       "      <td>...</td>\n",
       "      <td>...</td>\n",
       "      <td>...</td>\n",
       "      <td>...</td>\n",
       "      <td>...</td>\n",
       "      <td>...</td>\n",
       "    </tr>\n",
       "    <tr>\n",
       "      <td>1515</td>\n",
       "      <td>empty</td>\n",
       "      <td>verb</td>\n",
       "      <td>become empty or void of its content</td>\n",
       "      <td>to discharge itself; .</td>\n",
       "      <td>broader</td>\n",
       "      <td>(become, empty, or, void, of, its, content)</td>\n",
       "      <td>(to, discharge, itself, ;, .)</td>\n",
       "      <td>(become, empty, or, void, of, content)</td>\n",
       "      <td>[void, content]</td>\n",
       "      <td>(to, discharge, ;, .)</td>\n",
       "      <td>[discharge]</td>\n",
       "    </tr>\n",
       "    <tr>\n",
       "      <td>8052</td>\n",
       "      <td>fireball</td>\n",
       "      <td>noun</td>\n",
       "      <td>a ball of fire (such as the sun or a ball-shap...</td>\n",
       "      <td>a large mass of fire caused by a large explosi...</td>\n",
       "      <td>broader</td>\n",
       "      <td>(a, ball, of, fire, (, such, as, the, sun, or,...</td>\n",
       "      <td>(a, large, mass, of, fire, caused, by, a, larg...</td>\n",
       "      <td>(a, ball, of, fire, (, such, as, the, sun, or,...</td>\n",
       "      <td>[ball, fire, sun, ball, shape, discharge, ligh...</td>\n",
       "      <td>(a, large, mass, of, fire, cause, by, a, large...</td>\n",
       "      <td>[large, mass, fire, cause, large, explosion, i...</td>\n",
       "    </tr>\n",
       "    <tr>\n",
       "      <td>102</td>\n",
       "      <td>offensive</td>\n",
       "      <td>adjective</td>\n",
       "      <td>in sports, relating to actions or team members...</td>\n",
       "      <td>insulting</td>\n",
       "      <td>none</td>\n",
       "      <td>(in, sports, ,, relating, to, actions, or, tea...</td>\n",
       "      <td>(insulting)</td>\n",
       "      <td>(in, sport, ,, relate, to, action, or, team, m...</td>\n",
       "      <td>[sport, relate, action, team, member, score, p...</td>\n",
       "      <td>(insult)</td>\n",
       "      <td>[insult]</td>\n",
       "    </tr>\n",
       "    <tr>\n",
       "      <td>4107</td>\n",
       "      <td>work</td>\n",
       "      <td>verb</td>\n",
       "      <td>make something, usually for a specific function</td>\n",
       "      <td>to produce or form by labor; to bring forth by...</td>\n",
       "      <td>exact</td>\n",
       "      <td>(make, something, ,, usually, for, a, specific...</td>\n",
       "      <td>(to, produce, or, form, by, labor, ;, to, brin...</td>\n",
       "      <td>(make, something, ,, usually, for, a, specific...</td>\n",
       "      <td>[usually, specific, function]</td>\n",
       "      <td>(to, produce, or, form, by, labor, ;, to, brin...</td>\n",
       "      <td>[produce, form, labor, bring, forth, exertion,...</td>\n",
       "    </tr>\n",
       "    <tr>\n",
       "      <td>5048</td>\n",
       "      <td>follow</td>\n",
       "      <td>verb</td>\n",
       "      <td>come as a logical consequence; follow logically</td>\n",
       "      <td>to result from, as an effect from a cause, or ...</td>\n",
       "      <td>narrower</td>\n",
       "      <td>(come, as, a, logical, consequence, ;, follow,...</td>\n",
       "      <td>(to, result, from, ,, as, an, effect, from, a,...</td>\n",
       "      <td>(come, as, a, logical, consequence, ;, follow,...</td>\n",
       "      <td>[come, logical, consequence, follow, logically]</td>\n",
       "      <td>(to, result, from, ,, as, an, effect, from, a,...</td>\n",
       "      <td>[result, effect, cause, inference, premise]</td>\n",
       "    </tr>\n",
       "  </tbody>\n",
       "</table>\n",
       "<p>1286 rows × 11 columns</p>\n",
       "</div>"
      ],
      "text/plain": [
       "           word          pos  \\\n",
       "20          off       adverb   \n",
       "382          on  preposition   \n",
       "256        open    adjective   \n",
       "492          on  preposition   \n",
       "856   oriflamme         noun   \n",
       "...         ...          ...   \n",
       "1515      empty         verb   \n",
       "8052   fireball         noun   \n",
       "102   offensive    adjective   \n",
       "4107       work         verb   \n",
       "5048     follow         verb   \n",
       "\n",
       "                                                   def1  \\\n",
       "20                                    away from a place   \n",
       "382                         touching the surface of sth   \n",
       "256   (of a store, business, etc.) available for bus...   \n",
       "492                                     hitting against   \n",
       "856   an inspiring symbol or ideal that serves as a ...   \n",
       "...                                                 ...   \n",
       "1515                become empty or void of its content   \n",
       "8052  a ball of fire (such as the sun or a ball-shap...   \n",
       "102   in sports, relating to actions or team members...   \n",
       "4107    make something, usually for a specific function   \n",
       "5048    come as a logical consequence; follow logically   \n",
       "\n",
       "                                                   def2  relation  \\\n",
       "20                                     (of food) rotten      none   \n",
       "382              when (something is, or has been, done)      none   \n",
       "256                                     not kept secret      none   \n",
       "492                                         by means of      none   \n",
       "856                    a standard or ensign, in battle.   related   \n",
       "...                                                 ...       ...   \n",
       "1515                             to discharge itself; .   broader   \n",
       "8052  a large mass of fire caused by a large explosi...   broader   \n",
       "102                                           insulting      none   \n",
       "4107  to produce or form by labor; to bring forth by...     exact   \n",
       "5048  to result from, as an effect from a cause, or ...  narrower   \n",
       "\n",
       "                                            processed_1  \\\n",
       "20                               (away, from, a, place)   \n",
       "382                   (touching, the, surface, of, sth)   \n",
       "256   ((, of, a, store, ,, business, ,, etc, ., ), a...   \n",
       "492                                  (hitting, against)   \n",
       "856   (an, inspiring, symbol, or, ideal, that, serve...   \n",
       "...                                                 ...   \n",
       "1515        (become, empty, or, void, of, its, content)   \n",
       "8052  (a, ball, of, fire, (, such, as, the, sun, or,...   \n",
       "102   (in, sports, ,, relating, to, actions, or, tea...   \n",
       "4107  (make, something, ,, usually, for, a, specific...   \n",
       "5048  (come, as, a, logical, consequence, ;, follow,...   \n",
       "\n",
       "                                            processed_2  \\\n",
       "20                             ((, of, food, ), rotten)   \n",
       "382   (when, (, something, is, ,, or, has, been, ,, ...   \n",
       "256                                 (not, kept, secret)   \n",
       "492                                     (by, means, of)   \n",
       "856         (a, standard, or, ensign, ,, in, battle, .)   \n",
       "...                                                 ...   \n",
       "1515                      (to, discharge, itself, ;, .)   \n",
       "8052  (a, large, mass, of, fire, caused, by, a, larg...   \n",
       "102                                         (insulting)   \n",
       "4107  (to, produce, or, form, by, labor, ;, to, brin...   \n",
       "5048  (to, result, from, ,, as, an, effect, from, a,...   \n",
       "\n",
       "                                           lemmatized_1  \\\n",
       "20                               (away, from, a, place)   \n",
       "382                      (touch, the, surface, of, sth)   \n",
       "256   ((, of, a, store, ,, business, ,, etc, ., ), a...   \n",
       "492                                      (hit, against)   \n",
       "856   (an, inspiring, symbol, or, ideal, that, serve...   \n",
       "...                                                 ...   \n",
       "1515             (become, empty, or, void, of, content)   \n",
       "8052  (a, ball, of, fire, (, such, as, the, sun, or,...   \n",
       "102   (in, sport, ,, relate, to, action, or, team, m...   \n",
       "4107  (make, something, ,, usually, for, a, specific...   \n",
       "5048  (come, as, a, logical, consequence, ;, follow,...   \n",
       "\n",
       "                                    stopwords_removed_1  \\\n",
       "20                                        [away, place]   \n",
       "382                               [touch, surface, sth]   \n",
       "256   [store, business, etc, available, business, pr...   \n",
       "492                                               [hit]   \n",
       "856   [inspiring, symbol, ideal, serve, rallying, po...   \n",
       "...                                                 ...   \n",
       "1515                                    [void, content]   \n",
       "8052  [ball, fire, sun, ball, shape, discharge, ligh...   \n",
       "102   [sport, relate, action, team, member, score, p...   \n",
       "4107                      [usually, specific, function]   \n",
       "5048    [come, logical, consequence, follow, logically]   \n",
       "\n",
       "                                           lemmatized_2  \\\n",
       "20                             ((, of, food, ), rotten)   \n",
       "382   (when, (, something, be, ,, or, have, be, ,, d...   \n",
       "256                                 (not, keep, secret)   \n",
       "492                                      (by, mean, of)   \n",
       "856         (a, standard, or, ensign, ,, in, battle, .)   \n",
       "...                                                 ...   \n",
       "1515                              (to, discharge, ;, .)   \n",
       "8052  (a, large, mass, of, fire, cause, by, a, large...   \n",
       "102                                            (insult)   \n",
       "4107  (to, produce, or, form, by, labor, ;, to, brin...   \n",
       "5048  (to, result, from, ,, as, an, effect, from, a,...   \n",
       "\n",
       "                                    stopwords_removed_2  \n",
       "20                                       [food, rotten]  \n",
       "382                                                  []  \n",
       "256                                            [secret]  \n",
       "492                                              [mean]  \n",
       "856                          [standard, ensign, battle]  \n",
       "...                                                 ...  \n",
       "1515                                        [discharge]  \n",
       "8052  [large, mass, fire, cause, large, explosion, i...  \n",
       "102                                            [insult]  \n",
       "4107  [produce, form, labor, bring, forth, exertion,...  \n",
       "5048        [result, effect, cause, inference, premise]  \n",
       "\n",
       "[1286 rows x 11 columns]"
      ]
     },
     "execution_count": 10,
     "metadata": {},
     "output_type": "execute_result"
    }
   ],
   "source": [
    "def is_above_threshold(df, column,threshold):\n",
    "    return df[column] >= threshold\n",
    "\n",
    "en_data[is_above_threshold(features,'cos_tfidf', 0.1) == False]"
   ]
  },
  {
   "cell_type": "code",
   "execution_count": 11,
   "metadata": {},
   "outputs": [],
   "source": [
    "all_train_and_testset = prepare_data(features, en_data['relation'])"
   ]
  },
  {
   "cell_type": "markdown",
   "metadata": {},
   "source": [
    "**Plot Correlation Matrix of features**"
   ]
  },
  {
   "cell_type": "code",
   "execution_count": 12,
   "metadata": {},
   "outputs": [
    {
     "name": "stdout",
     "output_type": "stream",
     "text": [
      "      similarities  first_word_same  len_diff   jaccard       cos  pos_diff  \\\n",
      "429       0.217786            False  1.591946  0.000000  0.000000  1.583602   \n",
      "7507      0.707387            False  3.082939  0.111111  0.134840  1.583602   \n",
      "7274      1.187363            False  1.343447  0.076923  0.505076 -0.463293   \n",
      "5506      1.115411            False  2.834440  0.086957  0.175682  0.560154   \n",
      "2806     -0.830424            False -0.893043  0.000000  0.000000  0.560154   \n",
      "...            ...              ...       ...       ...       ...       ...   \n",
      "3120      0.116266            False  0.846449  0.069767  0.228934 -2.169038   \n",
      "8052      0.940398             True  2.088944  0.162162  0.415775 -0.122144   \n",
      "102      -3.391493            False -0.644544  0.000000  0.000000  2.265900   \n",
      "4107      0.275805            False  0.100953  0.000000  0.000000  0.901304   \n",
      "5048      0.623860            False  0.100953  0.117647  0.089087  0.219005   \n",
      "\n",
      "      cos_tfidf  \n",
      "429    0.000000  \n",
      "7507   0.178606  \n",
      "7274   0.253634  \n",
      "5506   0.000000  \n",
      "2806   0.000000  \n",
      "...         ...  \n",
      "3120   0.258892  \n",
      "8052   0.050839  \n",
      "102    0.000000  \n",
      "4107   0.000000  \n",
      "5048   0.000000  \n",
      "\n",
      "[1792 rows x 7 columns]\n"
     ]
    },
    {
     "name": "stderr",
     "output_type": "stream",
     "text": [
      "/Users/seungbinyim/opt/anaconda3/lib/python3.7/site-packages/yellowbrick/features/rankd.py:216: YellowbrickWarning: RankD plots may be clipped when using matplotlib v3.1.1, upgrade to matplotlib v3.1.2 or later to fix the plots.\n",
      "  warnings.warn(msg, YellowbrickWarning)\n"
     ]
    },
    {
     "data": {
      "image/png": "[encoded data removed]",
      "text/plain": [
       "<Figure size 576x396 with 2 Axes>"
      ]
     },
     "metadata": {},
     "output_type": "display_data"
    },
    {
     "data": {
      "text/plain": [
       "<matplotlib.axes._subplots.AxesSubplot at 0x7fbda100e550>"
      ]
     },
     "execution_count": 12,
     "metadata": {},
     "output_type": "execute_result"
    }
   ],
   "source": [
    "from yellowbrick.classifier import ClassificationReport\n",
    "from yellowbrick.features import Rank2D\n",
    "from yellowbrick.datasets import load_credit\n",
    "\n",
    "# Instantiate the visualizer with the Pearson ranking algorithm\n",
    "visualizer = Rank2D(algorithm='pearson')\n",
    "\n",
    "X = all_train_and_testset['pd']['x_trainset']\n",
    "print(X)\n",
    "X = X[['similarities','len_diff','jaccard','cos','pos_diff','cos_tfidf']]\n",
    "\n",
    "visualizer.fit(X, all_train_and_testset['pd']['y_trainset'])  \n",
    "visualizer.transform(X) \n",
    "visualizer.show()"
   ]
  },
  {
   "cell_type": "markdown",
   "metadata": {},
   "source": [
    "**Plot Confusion Matrix of the classifiers result**"
   ]
  },
  {
   "cell_type": "code",
   "execution_count": 13,
   "metadata": {},
   "outputs": [
    {
     "data": {
      "image/png": "[encoded data removed]",
      "text/plain": [
       "<Figure size 576x396 with 2 Axes>"
      ]
     },
     "metadata": {},
     "output_type": "display_data"
    },
    {
     "data": {
      "text/plain": [
       "<matplotlib.axes._subplots.AxesSubplot at 0x7fbd80551b10>"
      ]
     },
     "execution_count": 13,
     "metadata": {},
     "output_type": "execute_result"
    }
   ],
   "source": [
    "model = RandomForestClassifier(max_depth=15, max_features='auto', min_samples_leaf=3, min_samples_split=2, n_estimators=500)\n",
    "visualizer = ClassificationReport(model)\n",
    "visualizer.fit(all_train_and_testset['pd']['x_trainset'], all_train_and_testset['pd']['y_trainset'])\n",
    "visualizer.score(all_train_and_testset['pd']['x_testset'], all_train_and_testset['pd']['y_testset'])\n",
    "visualizer.show()"
   ]
  },
  {
   "cell_type": "code",
   "execution_count": null,
   "metadata": {},
   "outputs": [],
   "source": []
  }
 ],
 "metadata": {
  "kernelspec": {
   "display_name": "Python 3",
   "language": "python",
   "name": "python3"
  },
  "language_info": {
   "codemirror_mode": {
    "name": "ipython",
    "version": 3
   },
   "file_extension": ".py",
   "mimetype": "text/x-python",
   "name": "python",
   "nbconvert_exporter": "python",
   "pygments_lexer": "ipython3",
   "version": "3.7.4"
  },
  "pycharm": {
   "stem_cell": {
    "cell_type": "raw",
    "metadata": {
     "collapsed": false
    },
    "source": []
   }
  }
 },
 "nbformat": 4,
 "nbformat_minor": 4
}
